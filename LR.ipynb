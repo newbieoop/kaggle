{
 "cells": [
  {
   "cell_type": "code",
   "execution_count": 2,
   "metadata": {
    "collapsed": false
   },
   "outputs": [],
   "source": [
    "from numpy import *\n",
    "\n",
    "def loadDataSet(filename):\n",
    "    numFeat = len(open(filename).readline().split('\\t')) - 1\n",
    "    dataMat = [];labelMat=[]\n",
    "    fr = open(filename)\n",
    "    for line in fr.readlines():\n",
    "        lineArr = []\n",
    "        curLine = line.strip().split('\\t')\n",
    "        for i in range(numFeat):\n",
    "            lineArr.append(float(curLine[i]))\n",
    "        dataMat.append(lineArr)\n",
    "        labelMat.append(float(curLine[-1]))\n",
    "    return dataMat,labelMat\n",
    "\n",
    "def standRegres(xArr,yArr):\n",
    "    xMat = mat(xArr);yMat = mat(yArr).T\n",
    "    xTx = xMat.T*xMat\n",
    "    if linalg.det(xTx) == 0.0:\n",
    "        print(\"this matrix is singular,cannot do inverse\")\n",
    "        return\n",
    "    ws = xTx.I * (xMat.T*yMat)\n",
    "    return ws\n",
    "        "
   ]
  },
  {
   "cell_type": "code",
   "execution_count": 3,
   "metadata": {
    "collapsed": false
   },
   "outputs": [],
   "source": [
    "xArr,yArr = loadDataSet('ex0.txt')"
   ]
  },
  {
   "cell_type": "code",
   "execution_count": 4,
   "metadata": {
    "collapsed": false
   },
   "outputs": [
    {
     "data": {
      "text/plain": [
       "(200, 2)"
      ]
     },
     "execution_count": 4,
     "metadata": {},
     "output_type": "execute_result"
    }
   ],
   "source": [
    "shape(xArr)"
   ]
  },
  {
   "cell_type": "code",
   "execution_count": 5,
   "metadata": {
    "collapsed": false
   },
   "outputs": [
    {
     "data": {
      "text/plain": [
       "(200,)"
      ]
     },
     "execution_count": 5,
     "metadata": {},
     "output_type": "execute_result"
    }
   ],
   "source": [
    "shape(yArr)"
   ]
  },
  {
   "cell_type": "code",
   "execution_count": 6,
   "metadata": {
    "collapsed": false
   },
   "outputs": [
    {
     "data": {
      "text/plain": [
       "matrix([[ 3.00774324],\n",
       "        [ 1.69532264]])"
      ]
     },
     "execution_count": 6,
     "metadata": {},
     "output_type": "execute_result"
    }
   ],
   "source": [
    "ws = standRegres(xArr,yArr)\n",
    "ws"
   ]
  },
  {
   "cell_type": "code",
   "execution_count": 7,
   "metadata": {
    "collapsed": true
   },
   "outputs": [],
   "source": [
    "xMat = mat(xArr)\n",
    "yMat = mat(yArr)\n",
    "yHat = xMat*ws"
   ]
  },
  {
   "cell_type": "code",
   "execution_count": 8,
   "metadata": {
    "collapsed": false
   },
   "outputs": [
    {
     "data": {
      "text/plain": [
       "matrix([[ 1.      ,  0.067732],\n",
       "        [ 1.      ,  0.42781 ],\n",
       "        [ 1.      ,  0.995731],\n",
       "        [ 1.      ,  0.738336],\n",
       "        [ 1.      ,  0.981083],\n",
       "        [ 1.      ,  0.526171],\n",
       "        [ 1.      ,  0.378887],\n",
       "        [ 1.      ,  0.033859],\n",
       "        [ 1.      ,  0.132791],\n",
       "        [ 1.      ,  0.138306],\n",
       "        [ 1.      ,  0.247809],\n",
       "        [ 1.      ,  0.64827 ],\n",
       "        [ 1.      ,  0.731209],\n",
       "        [ 1.      ,  0.236833],\n",
       "        [ 1.      ,  0.969788],\n",
       "        [ 1.      ,  0.607492],\n",
       "        [ 1.      ,  0.358622],\n",
       "        [ 1.      ,  0.147846],\n",
       "        [ 1.      ,  0.63782 ],\n",
       "        [ 1.      ,  0.230372],\n",
       "        [ 1.      ,  0.070237],\n",
       "        [ 1.      ,  0.067154],\n",
       "        [ 1.      ,  0.925577],\n",
       "        [ 1.      ,  0.717733],\n",
       "        [ 1.      ,  0.015371],\n",
       "        [ 1.      ,  0.33507 ],\n",
       "        [ 1.      ,  0.040486],\n",
       "        [ 1.      ,  0.212575],\n",
       "        [ 1.      ,  0.617218],\n",
       "        [ 1.      ,  0.541196],\n",
       "        [ 1.      ,  0.045353],\n",
       "        [ 1.      ,  0.126762],\n",
       "        [ 1.      ,  0.556486],\n",
       "        [ 1.      ,  0.901144],\n",
       "        [ 1.      ,  0.958476],\n",
       "        [ 1.      ,  0.274561],\n",
       "        [ 1.      ,  0.394396],\n",
       "        [ 1.      ,  0.87248 ],\n",
       "        [ 1.      ,  0.409932],\n",
       "        [ 1.      ,  0.908969],\n",
       "        [ 1.      ,  0.166819],\n",
       "        [ 1.      ,  0.665016],\n",
       "        [ 1.      ,  0.263727],\n",
       "        [ 1.      ,  0.231214],\n",
       "        [ 1.      ,  0.552928],\n",
       "        [ 1.      ,  0.047744],\n",
       "        [ 1.      ,  0.365746],\n",
       "        [ 1.      ,  0.495002],\n",
       "        [ 1.      ,  0.493466],\n",
       "        [ 1.      ,  0.792101],\n",
       "        [ 1.      ,  0.76966 ],\n",
       "        [ 1.      ,  0.251821],\n",
       "        [ 1.      ,  0.181951],\n",
       "        [ 1.      ,  0.808177],\n",
       "        [ 1.      ,  0.334116],\n",
       "        [ 1.      ,  0.33863 ],\n",
       "        [ 1.      ,  0.452584],\n",
       "        [ 1.      ,  0.69477 ],\n",
       "        [ 1.      ,  0.590902],\n",
       "        [ 1.      ,  0.307928],\n",
       "        [ 1.      ,  0.148364],\n",
       "        [ 1.      ,  0.70218 ],\n",
       "        [ 1.      ,  0.721544],\n",
       "        [ 1.      ,  0.666886],\n",
       "        [ 1.      ,  0.124931],\n",
       "        [ 1.      ,  0.618286],\n",
       "        [ 1.      ,  0.381086],\n",
       "        [ 1.      ,  0.385643],\n",
       "        [ 1.      ,  0.777175],\n",
       "        [ 1.      ,  0.116089],\n",
       "        [ 1.      ,  0.115487],\n",
       "        [ 1.      ,  0.66351 ],\n",
       "        [ 1.      ,  0.254884],\n",
       "        [ 1.      ,  0.993888],\n",
       "        [ 1.      ,  0.295434],\n",
       "        [ 1.      ,  0.952523],\n",
       "        [ 1.      ,  0.307047],\n",
       "        [ 1.      ,  0.277261],\n",
       "        [ 1.      ,  0.279101],\n",
       "        [ 1.      ,  0.175724],\n",
       "        [ 1.      ,  0.156383],\n",
       "        [ 1.      ,  0.733165],\n",
       "        [ 1.      ,  0.848142],\n",
       "        [ 1.      ,  0.771184],\n",
       "        [ 1.      ,  0.429492],\n",
       "        [ 1.      ,  0.162176],\n",
       "        [ 1.      ,  0.917064],\n",
       "        [ 1.      ,  0.315044],\n",
       "        [ 1.      ,  0.201473],\n",
       "        [ 1.      ,  0.297038],\n",
       "        [ 1.      ,  0.336647],\n",
       "        [ 1.      ,  0.666109],\n",
       "        [ 1.      ,  0.583888],\n",
       "        [ 1.      ,  0.085031],\n",
       "        [ 1.      ,  0.687006],\n",
       "        [ 1.      ,  0.949655],\n",
       "        [ 1.      ,  0.189912],\n",
       "        [ 1.      ,  0.844027],\n",
       "        [ 1.      ,  0.333288],\n",
       "        [ 1.      ,  0.427035],\n",
       "        [ 1.      ,  0.466369],\n",
       "        [ 1.      ,  0.550659],\n",
       "        [ 1.      ,  0.278213],\n",
       "        [ 1.      ,  0.918769],\n",
       "        [ 1.      ,  0.886555],\n",
       "        [ 1.      ,  0.569488],\n",
       "        [ 1.      ,  0.066379],\n",
       "        [ 1.      ,  0.335751],\n",
       "        [ 1.      ,  0.426863],\n",
       "        [ 1.      ,  0.395746],\n",
       "        [ 1.      ,  0.694221],\n",
       "        [ 1.      ,  0.27276 ],\n",
       "        [ 1.      ,  0.503495],\n",
       "        [ 1.      ,  0.067119],\n",
       "        [ 1.      ,  0.038326],\n",
       "        [ 1.      ,  0.599122],\n",
       "        [ 1.      ,  0.947054],\n",
       "        [ 1.      ,  0.671279],\n",
       "        [ 1.      ,  0.434811],\n",
       "        [ 1.      ,  0.509381],\n",
       "        [ 1.      ,  0.749442],\n",
       "        [ 1.      ,  0.058014],\n",
       "        [ 1.      ,  0.482978],\n",
       "        [ 1.      ,  0.466776],\n",
       "        [ 1.      ,  0.357767],\n",
       "        [ 1.      ,  0.949123],\n",
       "        [ 1.      ,  0.41732 ],\n",
       "        [ 1.      ,  0.920461],\n",
       "        [ 1.      ,  0.156433],\n",
       "        [ 1.      ,  0.656662],\n",
       "        [ 1.      ,  0.616418],\n",
       "        [ 1.      ,  0.853428],\n",
       "        [ 1.      ,  0.133295],\n",
       "        [ 1.      ,  0.693007],\n",
       "        [ 1.      ,  0.178449],\n",
       "        [ 1.      ,  0.199526],\n",
       "        [ 1.      ,  0.073224],\n",
       "        [ 1.      ,  0.286515],\n",
       "        [ 1.      ,  0.182026],\n",
       "        [ 1.      ,  0.621523],\n",
       "        [ 1.      ,  0.344584],\n",
       "        [ 1.      ,  0.398556],\n",
       "        [ 1.      ,  0.480369],\n",
       "        [ 1.      ,  0.15335 ],\n",
       "        [ 1.      ,  0.171846],\n",
       "        [ 1.      ,  0.867082],\n",
       "        [ 1.      ,  0.223855],\n",
       "        [ 1.      ,  0.528301],\n",
       "        [ 1.      ,  0.890192],\n",
       "        [ 1.      ,  0.106352],\n",
       "        [ 1.      ,  0.917886],\n",
       "        [ 1.      ,  0.014855],\n",
       "        [ 1.      ,  0.567682],\n",
       "        [ 1.      ,  0.068854],\n",
       "        [ 1.      ,  0.603535],\n",
       "        [ 1.      ,  0.53205 ],\n",
       "        [ 1.      ,  0.651362],\n",
       "        [ 1.      ,  0.901225],\n",
       "        [ 1.      ,  0.204337],\n",
       "        [ 1.      ,  0.696081],\n",
       "        [ 1.      ,  0.963924],\n",
       "        [ 1.      ,  0.98139 ],\n",
       "        [ 1.      ,  0.987911],\n",
       "        [ 1.      ,  0.990947],\n",
       "        [ 1.      ,  0.736021],\n",
       "        [ 1.      ,  0.253574],\n",
       "        [ 1.      ,  0.674722],\n",
       "        [ 1.      ,  0.939368],\n",
       "        [ 1.      ,  0.235419],\n",
       "        [ 1.      ,  0.110521],\n",
       "        [ 1.      ,  0.218023],\n",
       "        [ 1.      ,  0.869778],\n",
       "        [ 1.      ,  0.19683 ],\n",
       "        [ 1.      ,  0.958178],\n",
       "        [ 1.      ,  0.972673],\n",
       "        [ 1.      ,  0.745797],\n",
       "        [ 1.      ,  0.445674],\n",
       "        [ 1.      ,  0.470557],\n",
       "        [ 1.      ,  0.549236],\n",
       "        [ 1.      ,  0.335691],\n",
       "        [ 1.      ,  0.884739],\n",
       "        [ 1.      ,  0.918916],\n",
       "        [ 1.      ,  0.441815],\n",
       "        [ 1.      ,  0.116598],\n",
       "        [ 1.      ,  0.359274],\n",
       "        [ 1.      ,  0.814811],\n",
       "        [ 1.      ,  0.387125],\n",
       "        [ 1.      ,  0.982243],\n",
       "        [ 1.      ,  0.78088 ],\n",
       "        [ 1.      ,  0.652565],\n",
       "        [ 1.      ,  0.87003 ],\n",
       "        [ 1.      ,  0.604755],\n",
       "        [ 1.      ,  0.255212],\n",
       "        [ 1.      ,  0.730546],\n",
       "        [ 1.      ,  0.493829],\n",
       "        [ 1.      ,  0.257017],\n",
       "        [ 1.      ,  0.833735],\n",
       "        [ 1.      ,  0.070095],\n",
       "        [ 1.      ,  0.52707 ],\n",
       "        [ 1.      ,  0.116163]])"
      ]
     },
     "execution_count": 8,
     "metadata": {},
     "output_type": "execute_result"
    }
   ],
   "source": [
    "xMat"
   ]
  },
  {
   "cell_type": "code",
   "execution_count": 9,
   "metadata": {
    "collapsed": false
   },
   "outputs": [
    {
     "data": {
      "image/png": "[encoded data removed]",
      "text/plain": [
       "<matplotlib.figure.Figure at 0x1740e6c0dd8>"
      ]
     },
     "metadata": {},
     "output_type": "display_data"
    }
   ],
   "source": [
    "import matplotlib.pyplot as plt\n",
    "fig = plt.figure()\n",
    "ax = fig.add_subplot(111)\n",
    "ax.scatter(xMat[:,1],yMat.T[:,0])\n",
    "xCopy = xMat.copy()\n",
    "xCopy.sort(0)\n",
    "yHat = xCopy*ws\n",
    "ax.plot(xCopy[:,1],yHat,c='r')\n",
    "plt.show()"
   ]
  },
  {
   "cell_type": "code",
   "execution_count": 10,
   "metadata": {
    "collapsed": false
   },
   "outputs": [
    {
     "data": {
      "text/plain": [
       "array([[ 1.        ,  0.13653777],\n",
       "       [ 0.13653777,  1.        ]])"
      ]
     },
     "execution_count": 10,
     "metadata": {},
     "output_type": "execute_result"
    }
   ],
   "source": [
    "corrcoef(yHat.T,yMat)"
   ]
  },
  {
   "cell_type": "code",
   "execution_count": 11,
   "metadata": {
    "collapsed": false
   },
   "outputs": [
    {
     "data": {
      "image/png": "[encoded data removed]",
      "text/plain": [
       "<matplotlib.figure.Figure at 0x17410617e80>"
      ]
     },
     "metadata": {},
     "output_type": "display_data"
    }
   ],
   "source": [
    "#使用SKlearn进行回归预测\n",
    "import numpy as np\n",
    "from sklearn import linear_model\n",
    "regr = linear_model.LinearRegression()\n",
    "x_train = xMat[:-50,1]\n",
    "y_train = yMat.T[:-50]\n",
    "x_test = xMat[-50:,1]\n",
    "y_test = yMat.T[-50:]\n",
    "regr.fit(x_train,y_train)\n",
    "y_pred = regr.predict(x_test)\n",
    "plt.scatter(xMat[:,1],yMat.T[:,0],c='r')\n",
    "plt.plot(x_test,y_pred,c='g')\n",
    "plt.show()"
   ]
  },
  {
   "cell_type": "code",
   "execution_count": 12,
   "metadata": {
    "collapsed": false
   },
   "outputs": [
    {
     "data": {
      "text/plain": [
       "array([[ 1.7108288]])"
      ]
     },
     "execution_count": 12,
     "metadata": {},
     "output_type": "execute_result"
    }
   ],
   "source": [
    "regr.coef_"
   ]
  },
  {
   "cell_type": "code",
   "execution_count": 25,
   "metadata": {
    "collapsed": false
   },
   "outputs": [
    {
     "ename": "ValueError",
     "evalue": "all the input array dimensions except for the concatenation axis must match exactly",
     "output_type": "error",
     "traceback": [
      "\u001b[0;31m---------------------------------------------------------------------------\u001b[0m",
      "\u001b[0;31mValueError\u001b[0m                                Traceback (most recent call last)",
      "\u001b[0;32m<ipython-input-25-145a755e6761>\u001b[0m in \u001b[0;36m<module>\u001b[0;34m()\u001b[0m\n\u001b[0;32m----> 1\u001b[0;31m \u001b[0mcorrcoef\u001b[0m\u001b[1;33m(\u001b[0m\u001b[0my_pred\u001b[0m\u001b[1;33m,\u001b[0m\u001b[0my_test\u001b[0m\u001b[1;33m.\u001b[0m\u001b[0mT\u001b[0m\u001b[1;33m)\u001b[0m\u001b[1;33m\u001b[0m\u001b[0m\n\u001b[0m",
      "\u001b[0;32mD:\\anaconda\\lib\\site-packages\\numpy\\lib\\function_base.py\u001b[0m in \u001b[0;36mcorrcoef\u001b[0;34m(x, y, rowvar, bias, ddof)\u001b[0m\n\u001b[1;32m   2559\u001b[0m         warnings.warn('bias and ddof have no effect and are deprecated',\n\u001b[1;32m   2560\u001b[0m                       DeprecationWarning)\n\u001b[0;32m-> 2561\u001b[0;31m     \u001b[0mc\u001b[0m \u001b[1;33m=\u001b[0m \u001b[0mcov\u001b[0m\u001b[1;33m(\u001b[0m\u001b[0mx\u001b[0m\u001b[1;33m,\u001b[0m \u001b[0my\u001b[0m\u001b[1;33m,\u001b[0m \u001b[0mrowvar\u001b[0m\u001b[1;33m)\u001b[0m\u001b[1;33m\u001b[0m\u001b[0m\n\u001b[0m\u001b[1;32m   2562\u001b[0m     \u001b[1;32mtry\u001b[0m\u001b[1;33m:\u001b[0m\u001b[1;33m\u001b[0m\u001b[0m\n\u001b[1;32m   2563\u001b[0m         \u001b[0md\u001b[0m \u001b[1;33m=\u001b[0m \u001b[0mdiag\u001b[0m\u001b[1;33m(\u001b[0m\u001b[0mc\u001b[0m\u001b[1;33m)\u001b[0m\u001b[1;33m\u001b[0m\u001b[0m\n",
      "\u001b[0;32mD:\\anaconda\\lib\\site-packages\\numpy\\lib\\function_base.py\u001b[0m in \u001b[0;36mcov\u001b[0;34m(m, y, rowvar, bias, ddof, fweights, aweights)\u001b[0m\n\u001b[1;32m   2430\u001b[0m         \u001b[1;32mif\u001b[0m \u001b[0mrowvar\u001b[0m \u001b[1;33m==\u001b[0m \u001b[1;36m0\u001b[0m \u001b[1;32mand\u001b[0m \u001b[0my\u001b[0m\u001b[1;33m.\u001b[0m\u001b[0mshape\u001b[0m\u001b[1;33m[\u001b[0m\u001b[1;36m0\u001b[0m\u001b[1;33m]\u001b[0m \u001b[1;33m!=\u001b[0m \u001b[1;36m1\u001b[0m\u001b[1;33m:\u001b[0m\u001b[1;33m\u001b[0m\u001b[0m\n\u001b[1;32m   2431\u001b[0m             \u001b[0my\u001b[0m \u001b[1;33m=\u001b[0m \u001b[0my\u001b[0m\u001b[1;33m.\u001b[0m\u001b[0mT\u001b[0m\u001b[1;33m\u001b[0m\u001b[0m\n\u001b[0;32m-> 2432\u001b[0;31m         \u001b[0mX\u001b[0m \u001b[1;33m=\u001b[0m \u001b[0mnp\u001b[0m\u001b[1;33m.\u001b[0m\u001b[0mvstack\u001b[0m\u001b[1;33m(\u001b[0m\u001b[1;33m(\u001b[0m\u001b[0mX\u001b[0m\u001b[1;33m,\u001b[0m \u001b[0my\u001b[0m\u001b[1;33m)\u001b[0m\u001b[1;33m)\u001b[0m\u001b[1;33m\u001b[0m\u001b[0m\n\u001b[0m\u001b[1;32m   2433\u001b[0m \u001b[1;33m\u001b[0m\u001b[0m\n\u001b[1;32m   2434\u001b[0m     \u001b[1;32mif\u001b[0m \u001b[0mddof\u001b[0m \u001b[1;32mis\u001b[0m \u001b[1;32mNone\u001b[0m\u001b[1;33m:\u001b[0m\u001b[1;33m\u001b[0m\u001b[0m\n",
      "\u001b[0;32mD:\\anaconda\\lib\\site-packages\\numpy\\core\\shape_base.py\u001b[0m in \u001b[0;36mvstack\u001b[0;34m(tup)\u001b[0m\n\u001b[1;32m    228\u001b[0m \u001b[1;33m\u001b[0m\u001b[0m\n\u001b[1;32m    229\u001b[0m     \"\"\"\n\u001b[0;32m--> 230\u001b[0;31m     \u001b[1;32mreturn\u001b[0m \u001b[0m_nx\u001b[0m\u001b[1;33m.\u001b[0m\u001b[0mconcatenate\u001b[0m\u001b[1;33m(\u001b[0m\u001b[1;33m[\u001b[0m\u001b[0matleast_2d\u001b[0m\u001b[1;33m(\u001b[0m\u001b[0m_m\u001b[0m\u001b[1;33m)\u001b[0m \u001b[1;32mfor\u001b[0m \u001b[0m_m\u001b[0m \u001b[1;32min\u001b[0m \u001b[0mtup\u001b[0m\u001b[1;33m]\u001b[0m\u001b[1;33m,\u001b[0m \u001b[1;36m0\u001b[0m\u001b[1;33m)\u001b[0m\u001b[1;33m\u001b[0m\u001b[0m\n\u001b[0m\u001b[1;32m    231\u001b[0m \u001b[1;33m\u001b[0m\u001b[0m\n\u001b[1;32m    232\u001b[0m \u001b[1;32mdef\u001b[0m \u001b[0mhstack\u001b[0m\u001b[1;33m(\u001b[0m\u001b[0mtup\u001b[0m\u001b[1;33m)\u001b[0m\u001b[1;33m:\u001b[0m\u001b[1;33m\u001b[0m\u001b[0m\n",
      "\u001b[0;31mValueError\u001b[0m: all the input array dimensions except for the concatenation axis must match exactly"
     ]
    }
   ],
   "source": [
    "corrcoef(y_pred,y_test.T)"
   ]
  },
  {
   "cell_type": "code",
   "execution_count": null,
   "metadata": {
    "collapsed": true
   },
   "outputs": [],
   "source": []
  }
 ],
 "metadata": {
  "kernelspec": {
   "display_name": "Python 3",
   "language": "python",
   "name": "python3"
  },
  "language_info": {
   "codemirror_mode": {
    "name": "ipython",
    "version": 3
   },
   "file_extension": ".py",
   "mimetype": "text/x-python",
   "name": "python",
   "nbconvert_exporter": "python",
   "pygments_lexer": "ipython3",
   "version": "3.6.0"
  }
 },
 "nbformat": 4,
 "nbformat_minor": 2
}
